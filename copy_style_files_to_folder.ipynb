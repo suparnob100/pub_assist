{
 "cells": [
  {
   "cell_type": "code",
   "execution_count": 1,
   "metadata": {},
   "outputs": [],
   "source": [
    "#pip install arxiv_latex_cleaner\n",
    "import os\n",
    "import re\n",
    "import shutil"
   ]
  },
  {
   "cell_type": "code",
   "execution_count": 2,
   "metadata": {},
   "outputs": [],
   "source": [
    "def find_and_copy_latex_style_files(latex_file, output_folder):\n",
    "    \"\"\"\n",
    "    Finds and copies .sty files required by a LaTeX file to the specified output folder.\n",
    "    It searches for style files in all subdirectories of the given `search_paths`.\n",
    "\n",
    "    :param latex_file: Path to the LaTeX source file.\n",
    "    :param output_folder: Destination folder to copy the found .sty files.\n",
    "    \"\"\"\n",
    "\n",
    "    # Define the root directory where .sty files are stored\n",
    "    search_paths = ['C:/Users/suparnob/AppData/Local/Programs/MiKTeX/tex/latex/']\n",
    "\n",
    "    # Regular expression to find \\usepackage{} commands\n",
    "    usepackage_re = re.compile(r'\\\\usepackage(?:\\[[^\\]]*\\])?\\{([^\\}]+)\\}')\n",
    "\n",
    "    # Read the LaTeX file\n",
    "    with open(latex_file, 'r', encoding='utf-8') as file:\n",
    "        data = file.read()\n",
    "\n",
    "    # Extract package names, handling multiple packages in one command\n",
    "    packages = set()\n",
    "    for match in usepackage_re.findall(data):\n",
    "        packages.update(match.split(','))  # Handle \\usepackage{pkg1,pkg2}\n",
    "\n",
    "    # Ensure the output directory exists\n",
    "    os.makedirs(output_folder, exist_ok=True)\n",
    "\n",
    "    # Find and copy the .sty files\n",
    "    for package in packages:\n",
    "        package = package.strip()\n",
    "        found = False\n",
    "        for base_path in search_paths:\n",
    "            for root, _, files in os.walk(base_path):  # Walk through subdirectories\n",
    "                if f'{package}.sty' in files:\n",
    "                    source_path = os.path.join(root, f'{package}.sty')\n",
    "                    destination_path = os.path.join(output_folder, f'{package}.sty')\n",
    "                    \n",
    "                    shutil.copy(source_path, destination_path)\n",
    "                    print(f\"Copied: {package}.sty → {destination_path}\")\n",
    "                    found = True\n",
    "                    break\n",
    "            if found:\n",
    "                break\n",
    "        \n",
    "        if not found:\n",
    "            print(f\"Warning: Style file for package '{package}' not found in {search_paths}\")"
   ]
  },
  {
   "cell_type": "code",
   "execution_count": null,
   "metadata": {},
   "outputs": [],
   "source": [
    "# Example usage\n",
    "input_folder = 'Latex_projects/'\n",
    "input_filename = input_folder + 'Manuscript_main_condensed_v2_regular.tex'\n",
    "output_folder = 'pacakges_used'\n",
    "\n",
    "find_and_copy_latex_style_files(input_filename, input_folder+output_folder)"
   ]
  }
 ],
 "metadata": {
  "kernelspec": {
   "display_name": "base",
   "language": "python",
   "name": "python3"
  },
  "language_info": {
   "codemirror_mode": {
    "name": "ipython",
    "version": 3
   },
   "file_extension": ".py",
   "mimetype": "text/x-python",
   "name": "python",
   "nbconvert_exporter": "python",
   "pygments_lexer": "ipython3",
   "version": "3.11.8"
  }
 },
 "nbformat": 4,
 "nbformat_minor": 2
}
