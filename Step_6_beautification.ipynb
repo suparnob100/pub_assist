{
 "cells": [
  {
   "cell_type": "code",
   "execution_count": 1,
   "metadata": {},
   "outputs": [],
   "source": [
    "from python_files.beautify import *"
   ]
  },
  {
   "cell_type": "code",
   "execution_count": null,
   "metadata": {},
   "outputs": [
    {
     "name": "stdout",
     "output_type": "stream",
     "text": [
      "Processed and wrote beautified file: Latex_Projects/Manuscript_main_condensed_v2_regular_beautiful.tex\n",
      "Processed and wrote beautified file: Latex_Projects/Manuscript_main_condensed_v2_regular_beautiful_beautiful.tex\n",
      "Processed and wrote beautified file: Latex_Projects/ATP_beautiful.tex\n"
     ]
    }
   ],
   "source": [
    "root_dir = r\"Latex_Projects/\"\n",
    "output_dir = root_dir  # You can specify a different output directory if needed\n",
    "process_all_tex_files(root_dir, output_dir,comment_column=0)"
   ]
  }
 ],
 "metadata": {
  "kernelspec": {
   "display_name": "base",
   "language": "python",
   "name": "python3"
  },
  "language_info": {
   "codemirror_mode": {
    "name": "ipython",
    "version": 3
   },
   "file_extension": ".py",
   "mimetype": "text/x-python",
   "name": "python",
   "nbconvert_exporter": "python",
   "pygments_lexer": "ipython3",
   "version": "3.11.8"
  }
 },
 "nbformat": 4,
 "nbformat_minor": 2
}
