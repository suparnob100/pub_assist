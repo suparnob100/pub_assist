{
 "cells": [
  {
   "cell_type": "code",
   "execution_count": 4,
   "metadata": {},
   "outputs": [],
   "source": [
    "#pip install arxiv_latex_cleaner\n",
    "import os\n",
    "import re\n",
    "import shutil"
   ]
  },
  {
   "cell_type": "markdown",
   "metadata": {},
   "source": [
    "#### Do this after step-4 and make sure the input tex file has no comments."
   ]
  },
  {
   "cell_type": "code",
   "execution_count": 5,
   "metadata": {},
   "outputs": [],
   "source": [
    "import re\n",
    "\n",
    "def extract_environments(latex_code, environments):\n",
    "    \"\"\"\n",
    "    Extract specified environments from the LaTeX code, ignoring commented-out environments or those with only commented content.\n",
    "\n",
    "    :param latex_code: A string containing raw LaTeX code.\n",
    "    :param environments: A list of environment names to extract.\n",
    "    :return: A dictionary with environment names as keys and a list of extracted environments as values.\n",
    "    \"\"\"\n",
    "    extracted = {}\n",
    "    for env in environments:\n",
    "        pattern = re.compile(r'(?<!%)\\\\begin\\{' + env + r'\\}(.*?)\\\\end\\{' + env + r'\\}', re.DOTALL)\n",
    "        matches = re.findall(pattern, latex_code)\n",
    "\n",
    "        # Filter out environments where all lines are commented out\n",
    "        filtered_matches = []\n",
    "        for match in matches:\n",
    "            # Remove leading/trailing spaces and check if any line is NOT commented out\n",
    "            content_lines = match.strip().split(\"\\n\")\n",
    "            if any(not line.strip().startswith(\"%\") for line in content_lines):\n",
    "                filtered_matches.append(f\"\\\\begin{{{env}}}{match}\\\\end{{{env}}}\")\n",
    "\n",
    "        extracted[env] = filtered_matches\n",
    "\n",
    "    return extracted\n",
    "\n",
    "def extract_graphics_path(latex_code):\n",
    "    \"\"\"\n",
    "    Extract the \\graphicspath command from the LaTeX preamble.\n",
    "\n",
    "    :param latex_code: A string containing raw LaTeX code.\n",
    "    :return: A string containing the \\graphicspath command if found, else an empty string.\n",
    "    \"\"\"\n",
    "    match = re.search(r'\\\\graphicspath\\{.*?\\}', latex_code)\n",
    "    return match.group(0) if match else ''\n",
    "\n",
    "def write_to_new_file(extracted, output_filename, graphics_path):\n",
    "    \"\"\"\n",
    "    Write the extracted code to a new LaTeX file with a basic preamble.\n",
    "\n",
    "    :param extracted: A dictionary with extracted environments.\n",
    "    :param output_filename: The name of the output file.\n",
    "    :param graphics_path: The \\graphicspath command from the original file.\n",
    "    \"\"\"\n",
    "    preamble = f\"\"\"\n",
    "\\\\documentclass{{article}}\n",
    "\\\\usepackage{{amsmath}}\n",
    "\\\\usepackage{{graphicx}}\n",
    "\\\\usepackage{{booktabs}}\n",
    "\\\\usepackage{{caption}}\n",
    "\\\\usepackage{{subcaption}}\n",
    "{graphics_path+ \"}\"}  % Preserve original graphics path\n",
    "\\\\begin{{document}}\n",
    "\"\"\"\n",
    "    postamble = \"\\n\\\\end{document}\"\n",
    "\n",
    "    with open(output_filename, 'w', encoding='utf-8') as f:\n",
    "        f.write(preamble)\n",
    "        for env in extracted:\n",
    "            if extracted[env]:  # Only write non-empty environments\n",
    "                f.write(f'\\n% Extracted {env} environments\\n')\n",
    "                f.write('\\n\\n'.join(extracted[env]) + \"\\n\")\n",
    "        f.write(postamble)"
   ]
  },
  {
   "cell_type": "code",
   "execution_count": 6,
   "metadata": {},
   "outputs": [],
   "source": [
    "# Example usage\n",
    "input_folder = 'Latex_projects_arXiv/'\n",
    "input_filename = input_folder + 'Manuscript_main_condensed_v2_regular.tex'\n",
    "output_filename = input_filename[:-4] + '_floats_only.tex'\n",
    "\n",
    "\n",
    "# Read the input LaTeX file\n",
    "with open(input_filename, 'r', encoding='utf-8') as f:\n",
    "    latex_code = f.read()\n",
    "\n",
    "# Extract equation, align, table, and figure environments\n",
    "extracted = extract_environments(latex_code, ['equation', 'align', 'table', 'figure'])\n",
    "\n",
    "# Extract \\graphicspath\n",
    "graphics_path = extract_graphics_path(latex_code)\n",
    "\n",
    "# Write the extracted code to a new LaTeX file\n",
    "write_to_new_file(extracted, output_filename, graphics_path)\n"
   ]
  }
 ],
 "metadata": {
  "kernelspec": {
   "display_name": "base",
   "language": "python",
   "name": "python3"
  },
  "language_info": {
   "codemirror_mode": {
    "name": "ipython",
    "version": 3
   },
   "file_extension": ".py",
   "mimetype": "text/x-python",
   "name": "python",
   "nbconvert_exporter": "python",
   "pygments_lexer": "ipython3",
   "version": "3.11.8"
  }
 },
 "nbformat": 4,
 "nbformat_minor": 2
}
