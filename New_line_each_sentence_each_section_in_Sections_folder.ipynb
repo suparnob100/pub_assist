{
 "cells": [
  {
   "cell_type": "code",
   "execution_count": 1,
   "metadata": {},
   "outputs": [],
   "source": [
    "#pip install arxiv_latex_cleaner\n",
    "import os\n",
    "import re\n",
    "import shutil"
   ]
  },
  {
   "cell_type": "code",
   "execution_count": 2,
   "metadata": {},
   "outputs": [],
   "source": [
    "def process_latex_file(input_filepath: str, output_filepath: str):\n",
    "    with open(input_filepath, 'r', encoding='utf-8') as infile:\n",
    "        latex_content = infile.read()\n",
    "\n",
    "    # Regex pattern to detect LaTeX environments\n",
    "    env_pattern = re.compile(r'(\\\\begin\\{.*?\\}.*?\\\\end\\{.*?\\})', re.DOTALL)\n",
    "\n",
    "    # Split content into environment and non-environment parts\n",
    "    chunks = re.split(env_pattern, latex_content)\n",
    "\n",
    "    processed_chunks = []\n",
    "    for chunk in chunks:\n",
    "        # If this chunk starts with '\\begin', it is an environment; leave it unchanged\n",
    "        if chunk.strip().startswith('\\\\begin'):\n",
    "            processed_chunks.append(chunk)\n",
    "        else:\n",
    "            # Non-environment text\n",
    "            lines = chunk.split('\\n')\n",
    "            processed_lines = []\n",
    "            for line in lines:\n",
    "                line = line.strip()\n",
    "                if not line:\n",
    "                    # Preserve blank lines\n",
    "                    processed_lines.append('')\n",
    "                    continue\n",
    "\n",
    "                # Split line into sentences by a period followed by whitespace\n",
    "                sentences = re.split(r'(?<=\\.)\\s', line)\n",
    "                # If there's more than one sentence, join them with newlines\n",
    "                # If only one sentence, leave it as is\n",
    "                if len(sentences) > 1:\n",
    "                    sentences = [s.strip() for s in sentences if s.strip()]\n",
    "                    processed_line = '\\n'.join(sentences)\n",
    "                else:\n",
    "                    processed_line = line\n",
    "\n",
    "                processed_lines.append(processed_line)\n",
    "\n",
    "            # Join the processed lines back together with newlines\n",
    "            processed_chunk = '\\n'.join(processed_lines)\n",
    "            processed_chunks.append(processed_chunk)\n",
    "\n",
    "    # Join all chunks together\n",
    "    processed_content = ''.join(processed_chunks)\n",
    "\n",
    "    with open(output_filepath, 'w', encoding='utf-8') as outfile:\n",
    "        outfile.write(processed_content)\n",
    "\n",
    "\n",
    "def process_all_tex_files(root_dir: str, output_dir: str):\n",
    "    for dirpath, dirnames, filenames in os.walk(root_dir):\n",
    "        for filename in filenames:\n",
    "            if filename.endswith('.tex') and \"_processed\" not in filename:\n",
    "                input_filepath = os.path.join(dirpath, filename)\n",
    "                output_filepath = os.path.join(output_dir, filename.replace('.tex', '_processed.tex'))\n",
    "                process_latex_file(input_filepath, output_filepath)"
   ]
  },
  {
   "cell_type": "code",
   "execution_count": null,
   "metadata": {},
   "outputs": [],
   "source": [
    "# Example usage\n",
    "root_dir = r\"Latex_Project_A/\"\n",
    "output_dir =root_dir\n",
    "process_all_tex_files(root_dir, output_dir)"
   ]
  }
 ],
 "metadata": {
  "kernelspec": {
   "display_name": "base",
   "language": "python",
   "name": "python3"
  },
  "language_info": {
   "codemirror_mode": {
    "name": "ipython",
    "version": 3
   },
   "file_extension": ".py",
   "mimetype": "text/x-python",
   "name": "python",
   "nbconvert_exporter": "python",
   "pygments_lexer": "ipython3",
   "version": "3.11.8"
  }
 },
 "nbformat": 4,
 "nbformat_minor": 2
}
