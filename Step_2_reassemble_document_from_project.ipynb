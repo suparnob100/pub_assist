{
 "cells": [
  {
   "cell_type": "code",
   "execution_count": 1,
   "metadata": {},
   "outputs": [],
   "source": [
    "import os\n",
    "import re\n",
    "import shutil"
   ]
  },
  {
   "cell_type": "code",
   "execution_count": 2,
   "metadata": {},
   "outputs": [],
   "source": [
    "input_folder = 'Latex_project_A/'\n",
    "filename = 'Manuscript_main.tex'"
   ]
  },
  {
   "cell_type": "code",
   "execution_count": 3,
   "metadata": {},
   "outputs": [],
   "source": [
    "# Input files and directories\n",
    "main_file_path = input_folder + filename\n",
    "sections_dir = input_folder + 'Sections'\n",
    "\n",
    "# Output file\n",
    "output_file_path = input_folder + filename[:-4] + '_reassembled_document.tex'\n",
    "\n",
    "# Open the main file and read its content\n",
    "with open(main_file_path, 'r') as main_file:\n",
    "    main_content = main_file.read()\n",
    "\n",
    "\n",
    "# Function to replace \\include*{filename} with the content of the file\n",
    "def replacer(match):\n",
    "    filename = match.group(1)  # Get the filename from the regex match\n",
    "    filepath = f\"{input_folder}{filename}.tex\"\n",
    "    with open(filepath, 'r') as file:\n",
    "        return file.read()\n",
    "\n",
    "# Use a regex to find all \\include*{filename} commands and replace them\n",
    "replaced_content = re.sub(r'\\\\include\\{(.+?)\\}', replacer, main_content)\n",
    "replaced_content = re.sub(r'\\\\includeonly\\{.*?\\}', '', replaced_content, flags=re.DOTALL)\n",
    "\n",
    "# Write the replaced content to the output file\n",
    "with open(output_file_path, 'w') as output_file:\n",
    "    output_file.write(replaced_content)"
   ]
  }
 ],
 "metadata": {
  "kernelspec": {
   "display_name": "base",
   "language": "python",
   "name": "python3"
  },
  "language_info": {
   "codemirror_mode": {
    "name": "ipython",
    "version": 3
   },
   "file_extension": ".py",
   "mimetype": "text/x-python",
   "name": "python",
   "nbconvert_exporter": "python",
   "pygments_lexer": "ipython3",
   "version": "3.11.8"
  }
 },
 "nbformat": 4,
 "nbformat_minor": 2
}
